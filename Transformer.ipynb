{
 "cells": [
  {
   "cell_type": "code",
   "execution_count": null,
   "id": "initial_id",
   "metadata": {
    "collapsed": true
   },
   "outputs": [],
   "source": [
    ""
   ]
  },
  {
   "metadata": {
    "ExecuteTime": {
     "end_time": "2025-02-16T14:12:34.520307Z",
     "start_time": "2025-02-16T14:12:34.510296Z"
    }
   },
   "cell_type": "code",
   "source": [
    "import torch\n",
    "import torch.nn as nn\n",
    "import torch.optim as optim\n",
    "import math\n",
    "import copy"
   ],
   "id": "79c224c702ec4106",
   "outputs": [],
   "execution_count": 3
  },
  {
   "metadata": {},
   "cell_type": "code",
   "outputs": [],
   "execution_count": null,
   "source": [
    "##位置编码\n",
    "class PositionalEncoding(nn.Module):\n",
    "    def __init__(self, d_model,  max_len=5000):\n",
    "        super(PositionalEncoding, self).__init__()\n",
    "        ##创建一个长为max_len,维度为d_model的位置编码矩阵\n",
    "        pe=torch.zeors(max_len,d_model)\n",
    "        position=torch.arange(0,max_len,dtype=torch.float).unsqueeze(1)\n",
    "        ##计算不同频率的正弦和余弦\n",
    "        div_term=torch.exp(torch.arange(0,d_model,2).float()*-(math.log(10000.0)/d_model))\n",
    "        pe[:,0::2]=torch.sin(position*div_term)#偶数维度用正弦\n",
    "        pe[:,1::2]=torch.cos(position*div_term)#奇数维度用余弦 \n",
    "        pe=pe.unsqueeze(0).transpose(0,1) #调整形状为(max_len,1,d_model) transpose指定两个维度进行交换\n",
    "        self.register_buffer('pe',pe) #注册为buffer,不参与梯度更新\n",
    "    def forward(self,x):   \n",
    "        #x的形状:(seq_len,batch_size,d_model)\n",
    "        x=x+self.pe[:x.size(0),:]\n",
    "        return x\n",
    "        "
   ],
   "id": "372454309aa4fb23"
  },
  {
   "metadata": {},
   "cell_type": "code",
   "outputs": [],
   "execution_count": null,
   "source": [
    "##多头自注意力机制\n",
    "class MultiHeadAttention(nn.Module):\n",
    "    def __init__(self, d_model, num_heads):\n",
    "        super(MultiHeadAttention, self).__init__()\n",
    "        assert d_model%num_heads==0\n",
    "        \n",
    "        self.d_model=d_model\n",
    "        self.num_heads=num_heads\n",
    "        self.d_k=d_model//num_heads\n",
    "        \n",
    "        self.w_q=nn.Linear(d_model,d_model)\n",
    "        self.w_k=nn.Linear(d_model,d_model)\n",
    "        self.w_v=nn.Linear(d_model,d_model)\n",
    "        \n",
    "        self.fc_out=nn.Linear(d_model,d_model)\n",
    "        \n",
    "        self.dropout=nn.Dropout(p=0.1)\n",
    "        self.scale=math.sqrt(self.d_k) ##根号下dk\n",
    "    \n",
    "    def forward(self,query,key,value,mask=None):\n",
    "        batch_size=query.size(1)\n",
    "        \n",
    "        ##线性变换\n",
    "        Q=self.w_q(query)\n",
    "        K=self.w_k(key)\n",
    "        V=self.w_v(value)\n",
    "        \n",
    "        ##分割成多个头\n",
    "        Q=Q.view(batch_size,-1,self.num_heads,self.d_k).transpose(1,2) ##(batch,num_heads,seq_len, d_k# )\n",
    "        K=K.view(batch_size,-1,self.num_heads,self.d_k).transpose(1,2)\n",
    "        V=V.view(batch_size,-1,self.num_heads,self.d_v).transpose(1,2)\n",
    "        \n",
    "        ##计算注意力得分\n",
    "        scores=torch.matmul(Q,K.transpose(-2,-1))/self.scale\n",
    "        if mask is not None:\n",
    "            scores=scores.masked_fill(mask==0,-1e9)\n",
    "        attn=torch.softmax(scores,dim=1)\n",
    "        attn=self.dropout(attn)\n",
    "        \n",
    "        ##加权求和\n",
    "        x=torch.matmul(attn,V)\n",
    "        ##合并多头\n",
    "        x=x.transpose(1,2).contiguous().view(batch_size,-1,self.num_heads*self.d_v)\n",
    "        \n",
    "        x=self.fc_out(x)\n",
    "        return x\n",
    "        \n",
    "            \n",
    "        "
   ],
   "id": "576e51b286ac4e56"
  },
  {
   "metadata": {},
   "cell_type": "code",
   "outputs": [],
   "execution_count": null,
   "source": [
    "##前馈网络(前馈网络由两个线性层和一个ReLu激活函数组成)\n",
    "class PositionwiseFeedForward(nn.Module):\n",
    "    def __init__(self, d_model, d_ff):\n",
    "        super(PositionwiseFeedForward, self).__init__()\n",
    "        self.fc1=nn.Linear(d_model,d_ff)\n",
    "        self.fc2=nn.Linear(d_model,d_ff)\n",
    "        self.dropout=nn.Dropout(p=0.1)\n",
    "        self.activation=nn.ReLU()\n",
    "    def forward(self,x):\n",
    "        return self.fc2(self.activation(self.fc1(x)))\n",
    "    "
   ],
   "id": "cef7c0b30f1599ff"
  },
  {
   "metadata": {},
   "cell_type": "code",
   "outputs": [],
   "execution_count": null,
   "source": [
    "##子连接层(每个子层(自注意力和前馈网络)都包含一个残差连接和一个层归一化)\n",
    "class SublayerConnection(nn.Module):\n",
    "    def __init__(self, d_model,dropout=0.1):\n",
    "        super(SublayerConnection, self).__init__()\n",
    "        self.norm=nn.LayerNorm(d_model)\n",
    "        self.dropout=nn.Dropout(p=0.1)\n",
    "    def forward(self,x,sublayer):\n",
    "        return x+self.dropout(sublayer(self.norm))\n",
    "    "
   ],
   "id": "e139b63ec0bcf827"
  },
  {
   "metadata": {},
   "cell_type": "code",
   "outputs": [],
   "execution_count": null,
   "source": [
    "##编码器层(包含一个多头注意力和一个前馈神经网络)\n",
    "class EncoderLayer(nn.Module):\n",
    "    def __init__(self, d_model, num_heads, d_ff, dropout=0.1):\n",
    "        super(EncoderLayer, self).__init__()\n",
    "        self.self_attn=MultiHeadAttention(d_model, num_heads)\n",
    "        self.feed_forward=PositionwiseFeedForward(d_model,d_ff,dropout)\n",
    "        self.sublayer=clones(SublayerConnection(d_model,dropout),2)\n",
    "        self.d_model=d_model\n",
    "        \n",
    "    def forward(self,x,mask):\n",
    "        x=self.sublayer[0](x,self.self_attn(x,x,x,mask))\n",
    "        ##匿名函数，接受输入x并返回多头子注意力的输出，(x,x,x)分别表示q,k,v,这是第一个残差连接和归一化\n",
    "        return self.sublayer[1](x,self.feed_forward)\n",
    "        ##接受前馈神经网络的输入和x的输入并进行残差连接和归一化"
   ],
   "id": "4553b0898957c50f"
  },
  {
   "metadata": {},
   "cell_type": "code",
   "outputs": [],
   "execution_count": null,
   "source": [
    "##克隆函数 用于克隆多个相同的子层\n",
    "def clones(module,N):\n",
    "    return nn.ModuleList([copy.deepcopy(module) for _ in range(N)])\n"
   ],
   "id": "9f3cf9dcc149e2c1"
  },
  {
   "metadata": {},
   "cell_type": "code",
   "outputs": [],
   "execution_count": null,
   "source": [
    "##解码器层\n",
    "class DecoderLayer(nn.Module):\n",
    "    def __init__(self, d_model, num_heads, d_ff, dropout=0.1):\n",
    "        super(DecoderLayer, self).__init__()\n",
    "        self.self_attn=MultiHeadAttention(d_model, num_heads)\n",
    "        self.src_attn=MultiHeadAttention(d_model,num_heads)\n",
    "        self.feed_forward=PositionwiseFeedForward(d_model,d_ff)\n",
    "        self.sublayer=clones(SublayerConnection(d_model,dropout),3)\n",
    "        self.d_model=d_model\n",
    "    def forward(self,x,memory,src_mask,tgt_mask):\n",
    "        m=memory\n",
    "        x=self.sublayer[0](x,self.self_attn(x,x,x,tgt_mask))\n",
    "        x=self.sublayer[1](x,self.src_attn(x,x,x,src_mask))\n",
    "        return self.sublayer[2](x,self.feed_forward)\n",
    "        "
   ],
   "id": "c212e636e311b5df"
  },
  {
   "metadata": {},
   "cell_type": "code",
   "outputs": [],
   "execution_count": null,
   "source": [
    "##编码器(编码器由多个编码器层组成)\n",
    "class Encoder(nn.Module):\n",
    "    def __init__(self, encoder_layer,num_layers):\n",
    "        super(Encoder,self).__init__()\n",
    "        self.layers=clones(encoder_layer,num_layers)\n",
    "        self.num_layers=num_layers\n",
    "        self.norm=nn.LayerNorm(encoder_layer.d_model)\n",
    "    def forward(self,x,mask):\n",
    "        for layer in self.layers:\n",
    "            x=layer(x,mask)\n",
    "        return self.norm(x)\n",
    "        "
   ],
   "id": "b5541043bd979e74"
  },
  {
   "metadata": {},
   "cell_type": "code",
   "outputs": [],
   "execution_count": null,
   "source": [
    "##解码器\n",
    "class Decoder(nn.Module):\n",
    "    def __init__(self, decoder_layer,num_layers):\n",
    "        super(Decoder,self).__init__()\n",
    "        self.layers=clones(decoder_layer,num_layers)\n",
    "        self.norm=nn.LayerNorm(decoder_layer.d_model)\n",
    "    def forward(self,x,memory,src_mask,tgt_mask):\n",
    "        for layer in self.layers:\n",
    "            x=layer(x,memory,src_mask,tgt_mask) ##src_mask用于屏蔽填充位置，tgt_mask用于屏蔽未来位置,memory为编码器的输出\n",
    "        return self.norm(x)"
   ],
   "id": "cab73e81024dae85"
  },
  {
   "metadata": {},
   "cell_type": "code",
   "outputs": [],
   "execution_count": null,
   "source": "",
   "id": "63db7db323df9590"
  },
  {
   "metadata": {},
   "cell_type": "code",
   "outputs": [],
   "execution_count": null,
   "source": [
    "##Transformer模型\n",
    "class Transformer(nn.Module):\n",
    "    def __init__(self,encoder,decoder,src_embed,trg_embed,generator):\n",
    "        super(Transformer,self).__init__()\n",
    "        self.encoder=encoder\n",
    "        self.decoder=decoder\n",
    "        self.src_embed=src_embed\n",
    "        self.trg_embed=trg_embed\n",
    "        self.generator=generator\n",
    "    def forward(self,src,tgt,memory,src_mask,tgt_mask):\n",
    "        memory=self.encoder(self.src_embed(src),src_mask)\n",
    "        output=self.decoder(self.trg_embed(tgt),memory,src_mask,tgt_mask)\n",
    "        return self.generator(output)"
   ],
   "id": "ed3bdc8e37db8f44"
  },
  {
   "metadata": {},
   "cell_type": "code",
   "outputs": [],
   "execution_count": null,
   "source": [
    "##生成器\n",
    "class Generator(nn.Module):\n",
    "    def __init__(self,d_model,vocab_size):\n",
    "        super(Generator,self).__init__()\n",
    "        self.proj=nn.Linear(d_model,vocab_size)\n",
    "    def forward(self,x):\n",
    "        return torch.softmax(self.proj(x),dim=-1)"
   ],
   "id": "7368f9fb9e6fe1b"
  },
  {
   "metadata": {},
   "cell_type": "code",
   "outputs": [],
   "execution_count": null,
   "source": [
    "##嵌入层\n",
    "class Embeddings(nn.Module):\n",
    "    def __init__(self,d_model,vocab_size):\n",
    "        super(Embeddings,self).__init__()\n",
    "        self.lut=nn.Embedding(vocab_size,d_model)\n",
    "        self.d_model=d_model\n",
    "    def forward(self,x):\n",
    "        return self.lut(x)*math.sqrt(self.d_model)"
   ],
   "id": "ec129abce622417c"
  },
  {
   "metadata": {},
   "cell_type": "code",
   "outputs": [],
   "execution_count": null,
   "source": [
    "##掩码\n",
    "def subsequent_mask(size):\n",
    "    attn_shape=(1,size,size)\n",
    "    subsequent_mask=torch.triu(torch.ones(attn_shape),diagonal=1).type(torch.uint8)\n",
    "    return subsequent_mask==0"
   ],
   "id": "92c8e9935ff92a06"
  },
  {
   "metadata": {},
   "cell_type": "code",
   "outputs": [],
   "execution_count": null,
   "source": [
    "def make_model(src_vocab,tgt_vocab,N=6,d_model=512,d_ff=2048,num_heads=8,dropout=0.1):\n",
    "    c=copy.deepcopy\n",
    "    attn=MultiHeadAttention(d_model,num_heads)\n",
    "    ff=PositionwiseFeedForward(d_model,d_ff,dropout)\n",
    "    position=PositionalEncoding(d_model,dropout)\n",
    "    \n",
    "    model=Transformer(\n",
    "        Encoder(EncoderLayer(d_model,num_heads,d_ff,dropout),N),\n",
    "        Decoder(DecoderLayer(d_model,num_heads,d_ff,dropout),N),\n",
    "        nn.Sequential(Embeddings(d_model,src_vocab),c(position)),\n",
    "        nn.Sequential(Embeddings(d_model,tgt_vocab),c(position)),\n",
    "        Generator(d_model,tgt_vocab)\n",
    "    )\n",
    "    \n",
    "    ##初始化参数\n",
    "    for p in model.parameters():\n",
    "        if p.dim()>1:\n",
    "            nn.init.xavier_uniform_(p)\n",
    "    return model\n",
    "    "
   ],
   "id": "488b25725e7d3310"
  },
  {
   "metadata": {},
   "cell_type": "code",
   "outputs": [],
   "execution_count": null,
   "source": [
    "##训练过程\n",
    "#超参数\n",
    "src_vocab=10000\n",
    "tgt_vocab=10000\n",
    "batch_size=64\n",
    "N=6\n",
    "d_model=512\n",
    "d_ff=2048\n",
    "num_heads=8\n",
    "dropout=0.1\n",
    "\n",
    "##创建模型\n",
    "model=make_model(src_vocab,tgt_vocab,N,d_model,d_ff,num_heads,dropout)\n",
    "\n",
    "##损失函数和优化器\n",
    "criterion=nn.CrossEntropyLoss(ignore_index=0)\n",
    "optimizer=torch.optim.Adam(model.parameters(),lr=0.001)\n",
    "\n",
    "##训练一个简单的步骤\n",
    "src=torch.randint(1,src_vocab,(batch_size,N))\n",
    "tgt=torch.randint(1,tgt_vocab,(batch_size,N))\n",
    "src_mask=torch.ones((batch_size,1,10))\n",
    "tgt_mask=subsequent_mask(10).unsqueeze(0)\n",
    "\n",
    "optimizer.zero_grad()\n",
    "output=model(src,tgt,src_mask,tgt_mask)\n",
    "loss=criterion(output.view(-1,tgt_vocab),tgt.view(-1))\n",
    "loss.backward()\n",
    "optimizer.step()"
   ],
   "id": "940165ad88174f63"
  }
 ],
 "metadata": {
  "kernelspec": {
   "display_name": "Python 3",
   "language": "python",
   "name": "python3"
  },
  "language_info": {
   "codemirror_mode": {
    "name": "ipython",
    "version": 2
   },
   "file_extension": ".py",
   "mimetype": "text/x-python",
   "name": "python",
   "nbconvert_exporter": "python",
   "pygments_lexer": "ipython2",
   "version": "2.7.6"
  }
 },
 "nbformat": 4,
 "nbformat_minor": 5
}
