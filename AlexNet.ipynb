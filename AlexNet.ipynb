{
 "cells": [
  {
   "cell_type": "code",
   "id": "initial_id",
   "metadata": {
    "collapsed": true,
    "ExecuteTime": {
     "end_time": "2025-02-09T07:16:12.226774Z",
     "start_time": "2025-02-09T07:16:12.208775Z"
    }
   },
   "source": [
    "import torch\n",
    "import torch.nn as nn\n",
    "from torch import optim\n",
    "from torchvision import datasets, transforms\n",
    "from torch.utils.data import Dataset, DataLoader\n",
    "import matplotlib.pyplot as plt\n"
   ],
   "outputs": [],
   "execution_count": 2
  },
  {
   "cell_type": "code",
   "id": "605b62e67b7a498f",
   "metadata": {
    "ExecuteTime": {
     "end_time": "2025-02-09T07:16:13.871927Z",
     "start_time": "2025-02-09T07:16:13.163886Z"
    }
   },
   "source": [
    "transform = transforms.Compose([transforms.Resize((224,224)),transforms.ToTensor(),transforms.Normalize(\n",
    "    mean=[0.485, 0.456, 0.406],\n",
    "    std=[0.229, 0.224, 0.225]\n",
    ")])\n",
    "train_path=\"E:/Kaggle/imagenet-mini/imagenet-mini/train\"\n",
    "test_path=\"E:/Kaggle/imagenet-mini/imagenet-mini/val\"\n",
    "train_dataset=datasets.ImageFolder(train_path,transform=transform)\n",
    "test_dataset=datasets.ImageFolder(test_path,transform=transform)\n",
    "train_loader=DataLoader(train_dataset,batch_size=32,shuffle=True)\n",
    "test_loader=DataLoader(test_dataset,batch_size=32,shuffle=True)\n"
   ],
   "outputs": [],
   "execution_count": 3
  },
  {
   "cell_type": "code",
   "id": "e6761a8d5bf6b8e1",
   "metadata": {
    "ExecuteTime": {
     "end_time": "2025-02-09T07:16:15.142226Z",
     "start_time": "2025-02-09T07:16:15.129358Z"
    }
   },
   "source": [
    "class AlexNet(nn.Module):\n",
    "    def __init__(self):\n",
    "        super(AlexNet, self).__init__()\n",
    "        self.net=nn.Sequential(\n",
    "            nn.Conv2d(3,96,kernel_size=11,stride=4,padding=2),\n",
    "            nn.ReLU(),\n",
    "            nn.MaxPool2d(kernel_size=3,stride=2),\n",
    "            nn.Conv2d(96,256,kernel_size=5,padding=2),\n",
    "            nn.ReLU(),\n",
    "            nn.MaxPool2d(kernel_size=3,stride=2),\n",
    "            nn.Conv2d(256,384,kernel_size=3,padding=1),\n",
    "            nn.ReLU(),\n",
    "            nn.Conv2d(384,384,kernel_size=3,padding=1),\n",
    "            nn.ReLU(),\n",
    "            nn.Conv2d(384,256,kernel_size=3,padding=1),\n",
    "            nn.ReLU(),\n",
    "            nn.MaxPool2d(kernel_size=3,stride=2),\n",
    "            nn.Flatten(),\n",
    "            nn.Linear(9216,4096),\n",
    "            nn.ReLU(),\n",
    "            nn.Dropout(0.5),\n",
    "            nn.Linear(4096,4096),\n",
    "            nn.ReLU(),\n",
    "            nn.Dropout(0.5),\n",
    "            nn.Linear(4096,1000),            \n",
    "        )\n",
    "    def forward(self,x):\n",
    "        return self.net(x)\n",
    "        "
   ],
   "outputs": [],
   "execution_count": 4
  },
  {
   "cell_type": "code",
   "id": "3b5dc9e6a50ca413",
   "metadata": {
    "ExecuteTime": {
     "end_time": "2025-02-09T07:16:18.046463Z",
     "start_time": "2025-02-09T07:16:17.542153Z"
    }
   },
   "source": [
    "model=AlexNet()\n",
    "model=model.cuda()\n",
    "loss_fn=nn.CrossEntropyLoss()\n",
    "optimizer=optim.SGD(model.parameters(),lr=0.08,momentum=0.9)\n"
   ],
   "outputs": [],
   "execution_count": 5
  },
  {
   "cell_type": "code",
   "id": "cbe4a26287ef3cdb",
   "metadata": {
    "ExecuteTime": {
     "end_time": "2025-02-09T07:25:56.154737500Z",
     "start_time": "2025-02-09T07:16:19.784269Z"
    }
   },
   "source": [
    "epochs=10\n",
    "losses=[]\n",
    "for epoch in range(epochs):\n",
    "    correct,total=0,0\n",
    "    for (x,y) in train_loader:  ##或者写for i,(x,y) in enumerate(dataloader)\n",
    "        x,y=x.cuda(),y.cuda()\n",
    "        pred=model(x)\n",
    "        loss=loss_fn(pred,y)\n",
    "        optimizer.zero_grad()\n",
    "        loss.backward()\n",
    "        optimizer.step()\n",
    "        losses.append(loss.item())\n",
    "        _,predicted=torch.max(pred,dim=1)\n",
    "        correct+=torch.sum(predicted==y)\n",
    "        total+=y.size(0)\n",
    "    accuracy=100*correct/total\n",
    "    print(f\"Epoch[{epoch+1}/{epochs}],Loss:{loss.item():.4f},Accuracy: {accuracy:.2f}%\")\n",
    "fig=plt.figure(figsize=(10,8))\n",
    "plt.plot(range(len(losses)),losses)\n",
    "plt.show()\n"
   ],
   "outputs": [
    {
     "name": "stdout",
     "output_type": "stream",
     "text": [
      "Epoch[1/10],Loss:6.9257,Accuracy: 0.29%\n",
      "Epoch[2/10],Loss:6.8357,Accuracy: 0.34%\n"
     ]
    },
    {
     "ename": "KeyboardInterrupt",
     "evalue": "",
     "output_type": "error",
     "traceback": [
      "\u001B[1;31m---------------------------------------------------------------------------\u001B[0m",
      "\u001B[1;31mKeyboardInterrupt\u001B[0m                         Traceback (most recent call last)",
      "Cell \u001B[1;32mIn[6], line 12\u001B[0m\n\u001B[0;32m     10\u001B[0m loss\u001B[38;5;241m.\u001B[39mbackward()\n\u001B[0;32m     11\u001B[0m optimizer\u001B[38;5;241m.\u001B[39mstep()\n\u001B[1;32m---> 12\u001B[0m losses\u001B[38;5;241m.\u001B[39mappend(\u001B[43mloss\u001B[49m\u001B[38;5;241;43m.\u001B[39;49m\u001B[43mitem\u001B[49m\u001B[43m(\u001B[49m\u001B[43m)\u001B[49m)\n\u001B[0;32m     13\u001B[0m _,predicted\u001B[38;5;241m=\u001B[39mtorch\u001B[38;5;241m.\u001B[39mmax(pred,dim\u001B[38;5;241m=\u001B[39m\u001B[38;5;241m1\u001B[39m)\n\u001B[0;32m     14\u001B[0m correct\u001B[38;5;241m+\u001B[39m\u001B[38;5;241m=\u001B[39mtorch\u001B[38;5;241m.\u001B[39msum(predicted\u001B[38;5;241m==\u001B[39my)\n",
      "\u001B[1;31mKeyboardInterrupt\u001B[0m: "
     ]
    }
   ],
   "execution_count": 6
  },
  {
   "metadata": {},
   "cell_type": "code",
   "outputs": [],
   "execution_count": null,
   "source": [
    "##torch.max返回两个张量，第一个是最大值，第二个是对应的索引\n",
    "##比如说pred=torch.tensor([\n",
    "#                     [0.8,0.1,0.1],\n",
    "#                     [0.2,0.7,0.1],\n",
    "#                     [0.3,0.3,0.4],\n",
    "#                     [0.1,0.2,0.7]])\n",
    "#真实标签y: y=torch.tensor([0,1,2,2])\n",
    "#即可以认为模型正确预测了4个样本的标签"
   ],
   "id": "a64407c17577fc7a"
  },
  {
   "cell_type": "code",
   "execution_count": null,
   "id": "b2a62ef36faa78b5",
   "metadata": {},
   "outputs": [],
   "source": [
    "correct,total=0,0\n",
    "with torch.no_grad():\n",
    "  for (x,y) in test_loader:\n",
    "      x,y=x.cuda(),y.cuda()\n",
    "      pred=model(x)\n",
    "      _,predicted=torch.max(pred,dim=1)\n",
    "      correct+=torch.sum(predicted==y)\n",
    "      total+=y.size(0)\n",
    "print(f\"预测精度为:{100*correct/total:.2f}%\")\n",
    "    "
   ]
  }
 ],
 "metadata": {
  "kernelspec": {
   "display_name": "Python 3",
   "language": "python",
   "name": "python3"
  },
  "language_info": {
   "codemirror_mode": {
    "name": "ipython",
    "version": 2
   },
   "file_extension": ".py",
   "mimetype": "text/x-python",
   "name": "python",
   "nbconvert_exporter": "python",
   "pygments_lexer": "ipython2",
   "version": "2.7.6"
  }
 },
 "nbformat": 4,
 "nbformat_minor": 5
}
